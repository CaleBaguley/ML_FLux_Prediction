{
 "cells": [
  {
   "cell_type": "code",
   "execution_count": 12,
   "id": "improving-saudi",
   "metadata": {},
   "outputs": [],
   "source": [
    "import xarray as xr\n",
    "import pandas as pd\n",
    "import numpy as np\n",
    "import matplotlib.pyplot as plt\n",
    "import statsmodels.api as sm\n",
    "import os\n",
    "from pandas import DataFrame\n",
    "from sklearn.ensemble import RandomForestRegressor\n",
    "from sklearn.ensemble import RandomForestClassifier\n",
    "import warnings\n",
    "warnings.filterwarnings(\"ignore\")\n",
    "from numpy import pi\n",
    "import statsmodels.formula.api as smf\n",
    "import shap\n",
    "import copy\n",
    "import sklearn.preprocessing as preprocessing\n",
    "import matplotlib.dates as mdates\n",
    "from matplotlib.ticker import MaxNLocator\n",
    "import seaborn as sns"
   ]
  },
  {
   "cell_type": "markdown",
   "id": "announced-wisdom",
   "metadata": {},
   "source": [
    "# ICOS dataset"
   ]
  },
  {
   "cell_type": "code",
   "execution_count": 13,
   "id": "dependent-imagination",
   "metadata": {},
   "outputs": [],
   "source": [
    "# Load data\n",
    "f = open('/User/homes/czhan/BGI/work_3/ICOS_2020WarmWinter/EddyCovariance/Release_2/FLX_DE-Tha_FLUXNET2015_FULLSET_1996-2020_beta-3/FLX_DE-Tha_FLUXNET2015_FULLSET_DD_1996-2020_beta-3.csv')\n",
    "ds =  pd.read_csv(f)"
   ]
  },
  {
   "cell_type": "code",
   "execution_count": 14,
   "id": "04f53803",
   "metadata": {},
   "outputs": [
    {
     "data": {
      "text/html": [
       "<div>\n",
       "<style scoped>\n",
       "    .dataframe tbody tr th:only-of-type {\n",
       "        vertical-align: middle;\n",
       "    }\n",
       "\n",
       "    .dataframe tbody tr th {\n",
       "        vertical-align: top;\n",
       "    }\n",
       "\n",
       "    .dataframe thead th {\n",
       "        text-align: right;\n",
       "    }\n",
       "</style>\n",
       "<table border=\"1\" class=\"dataframe\">\n",
       "  <thead>\n",
       "    <tr style=\"text-align: right;\">\n",
       "      <th></th>\n",
       "      <th>TIMESTAMP</th>\n",
       "      <th>TA_F_MDS</th>\n",
       "      <th>TA_F_MDS_QC</th>\n",
       "      <th>TA_F_MDS_NIGHT</th>\n",
       "      <th>TA_F_MDS_NIGHT_SD</th>\n",
       "      <th>TA_F_MDS_NIGHT_QC</th>\n",
       "      <th>TA_F_MDS_DAY</th>\n",
       "      <th>TA_F_MDS_DAY_SD</th>\n",
       "      <th>TA_F_MDS_DAY_QC</th>\n",
       "      <th>TA_ERA</th>\n",
       "      <th>...</th>\n",
       "      <th>GPP_DT_CUT_SE</th>\n",
       "      <th>GPP_DT_CUT_05</th>\n",
       "      <th>GPP_DT_CUT_16</th>\n",
       "      <th>GPP_DT_CUT_25</th>\n",
       "      <th>GPP_DT_CUT_50</th>\n",
       "      <th>GPP_DT_CUT_75</th>\n",
       "      <th>GPP_DT_CUT_84</th>\n",
       "      <th>GPP_DT_CUT_95</th>\n",
       "      <th>RECO_SR</th>\n",
       "      <th>RECO_SR_N</th>\n",
       "    </tr>\n",
       "  </thead>\n",
       "  <tbody>\n",
       "    <tr>\n",
       "      <th>0</th>\n",
       "      <td>19960101</td>\n",
       "      <td>-6.317</td>\n",
       "      <td>1.0</td>\n",
       "      <td>-6.519</td>\n",
       "      <td>0.499</td>\n",
       "      <td>1.0</td>\n",
       "      <td>-5.947</td>\n",
       "      <td>0.363</td>\n",
       "      <td>1.0</td>\n",
       "      <td>-4.461</td>\n",
       "      <td>...</td>\n",
       "      <td>0.015053</td>\n",
       "      <td>0.555028</td>\n",
       "      <td>0.561730</td>\n",
       "      <td>0.577562</td>\n",
       "      <td>0.580810</td>\n",
       "      <td>0.640947</td>\n",
       "      <td>0.731020</td>\n",
       "      <td>0.831118</td>\n",
       "      <td>-9999</td>\n",
       "      <td>-9999</td>\n",
       "    </tr>\n",
       "    <tr>\n",
       "      <th>1</th>\n",
       "      <td>19960102</td>\n",
       "      <td>-8.194</td>\n",
       "      <td>1.0</td>\n",
       "      <td>-8.046</td>\n",
       "      <td>0.315</td>\n",
       "      <td>1.0</td>\n",
       "      <td>-8.462</td>\n",
       "      <td>0.136</td>\n",
       "      <td>1.0</td>\n",
       "      <td>-6.298</td>\n",
       "      <td>...</td>\n",
       "      <td>0.009923</td>\n",
       "      <td>0.367124</td>\n",
       "      <td>0.371160</td>\n",
       "      <td>0.381973</td>\n",
       "      <td>0.385200</td>\n",
       "      <td>0.422219</td>\n",
       "      <td>0.482865</td>\n",
       "      <td>0.549465</td>\n",
       "      <td>-9999</td>\n",
       "      <td>-9999</td>\n",
       "    </tr>\n",
       "    <tr>\n",
       "      <th>2</th>\n",
       "      <td>19960103</td>\n",
       "      <td>-6.493</td>\n",
       "      <td>1.0</td>\n",
       "      <td>-6.442</td>\n",
       "      <td>1.290</td>\n",
       "      <td>1.0</td>\n",
       "      <td>-6.585</td>\n",
       "      <td>0.543</td>\n",
       "      <td>1.0</td>\n",
       "      <td>-4.898</td>\n",
       "      <td>...</td>\n",
       "      <td>0.008910</td>\n",
       "      <td>0.329656</td>\n",
       "      <td>0.333276</td>\n",
       "      <td>0.342989</td>\n",
       "      <td>0.345897</td>\n",
       "      <td>0.379112</td>\n",
       "      <td>0.433579</td>\n",
       "      <td>0.493385</td>\n",
       "      <td>-9999</td>\n",
       "      <td>-9999</td>\n",
       "    </tr>\n",
       "    <tr>\n",
       "      <th>3</th>\n",
       "      <td>19960104</td>\n",
       "      <td>-5.817</td>\n",
       "      <td>1.0</td>\n",
       "      <td>-5.994</td>\n",
       "      <td>1.533</td>\n",
       "      <td>1.0</td>\n",
       "      <td>-5.494</td>\n",
       "      <td>0.416</td>\n",
       "      <td>1.0</td>\n",
       "      <td>-4.019</td>\n",
       "      <td>...</td>\n",
       "      <td>0.020099</td>\n",
       "      <td>0.729447</td>\n",
       "      <td>0.738346</td>\n",
       "      <td>0.751802</td>\n",
       "      <td>0.759671</td>\n",
       "      <td>0.853409</td>\n",
       "      <td>0.964941</td>\n",
       "      <td>1.094040</td>\n",
       "      <td>-9999</td>\n",
       "      <td>-9999</td>\n",
       "    </tr>\n",
       "    <tr>\n",
       "      <th>4</th>\n",
       "      <td>19960105</td>\n",
       "      <td>-7.153</td>\n",
       "      <td>1.0</td>\n",
       "      <td>-7.873</td>\n",
       "      <td>0.937</td>\n",
       "      <td>1.0</td>\n",
       "      <td>-5.840</td>\n",
       "      <td>1.314</td>\n",
       "      <td>1.0</td>\n",
       "      <td>-6.368</td>\n",
       "      <td>...</td>\n",
       "      <td>0.073735</td>\n",
       "      <td>2.243160</td>\n",
       "      <td>2.542880</td>\n",
       "      <td>2.569510</td>\n",
       "      <td>2.582920</td>\n",
       "      <td>3.043680</td>\n",
       "      <td>3.379220</td>\n",
       "      <td>3.798090</td>\n",
       "      <td>-9999</td>\n",
       "      <td>-9999</td>\n",
       "    </tr>\n",
       "    <tr>\n",
       "      <th>...</th>\n",
       "      <td>...</td>\n",
       "      <td>...</td>\n",
       "      <td>...</td>\n",
       "      <td>...</td>\n",
       "      <td>...</td>\n",
       "      <td>...</td>\n",
       "      <td>...</td>\n",
       "      <td>...</td>\n",
       "      <td>...</td>\n",
       "      <td>...</td>\n",
       "      <td>...</td>\n",
       "      <td>...</td>\n",
       "      <td>...</td>\n",
       "      <td>...</td>\n",
       "      <td>...</td>\n",
       "      <td>...</td>\n",
       "      <td>...</td>\n",
       "      <td>...</td>\n",
       "      <td>...</td>\n",
       "      <td>...</td>\n",
       "      <td>...</td>\n",
       "    </tr>\n",
       "    <tr>\n",
       "      <th>9127</th>\n",
       "      <td>20201227</td>\n",
       "      <td>-1.100</td>\n",
       "      <td>1.0</td>\n",
       "      <td>-1.050</td>\n",
       "      <td>0.895</td>\n",
       "      <td>1.0</td>\n",
       "      <td>-1.199</td>\n",
       "      <td>0.568</td>\n",
       "      <td>1.0</td>\n",
       "      <td>-9999.000</td>\n",
       "      <td>...</td>\n",
       "      <td>0.045068</td>\n",
       "      <td>0.850156</td>\n",
       "      <td>0.887816</td>\n",
       "      <td>0.912788</td>\n",
       "      <td>1.064840</td>\n",
       "      <td>1.110250</td>\n",
       "      <td>1.546200</td>\n",
       "      <td>1.650990</td>\n",
       "      <td>-9999</td>\n",
       "      <td>-9999</td>\n",
       "    </tr>\n",
       "    <tr>\n",
       "      <th>9128</th>\n",
       "      <td>20201228</td>\n",
       "      <td>0.697</td>\n",
       "      <td>1.0</td>\n",
       "      <td>0.511</td>\n",
       "      <td>0.309</td>\n",
       "      <td>1.0</td>\n",
       "      <td>1.069</td>\n",
       "      <td>0.410</td>\n",
       "      <td>1.0</td>\n",
       "      <td>-9999.000</td>\n",
       "      <td>...</td>\n",
       "      <td>0.035154</td>\n",
       "      <td>0.411376</td>\n",
       "      <td>0.427144</td>\n",
       "      <td>0.473767</td>\n",
       "      <td>0.717211</td>\n",
       "      <td>0.788892</td>\n",
       "      <td>0.913247</td>\n",
       "      <td>1.116870</td>\n",
       "      <td>-9999</td>\n",
       "      <td>-9999</td>\n",
       "    </tr>\n",
       "    <tr>\n",
       "      <th>9129</th>\n",
       "      <td>20201229</td>\n",
       "      <td>1.987</td>\n",
       "      <td>1.0</td>\n",
       "      <td>1.183</td>\n",
       "      <td>0.844</td>\n",
       "      <td>1.0</td>\n",
       "      <td>3.596</td>\n",
       "      <td>1.207</td>\n",
       "      <td>1.0</td>\n",
       "      <td>-9999.000</td>\n",
       "      <td>...</td>\n",
       "      <td>0.039496</td>\n",
       "      <td>0.734143</td>\n",
       "      <td>0.765549</td>\n",
       "      <td>0.792913</td>\n",
       "      <td>0.934640</td>\n",
       "      <td>0.977202</td>\n",
       "      <td>1.334840</td>\n",
       "      <td>1.452930</td>\n",
       "      <td>-9999</td>\n",
       "      <td>-9999</td>\n",
       "    </tr>\n",
       "    <tr>\n",
       "      <th>9130</th>\n",
       "      <td>20201230</td>\n",
       "      <td>2.222</td>\n",
       "      <td>1.0</td>\n",
       "      <td>1.489</td>\n",
       "      <td>0.655</td>\n",
       "      <td>1.0</td>\n",
       "      <td>3.559</td>\n",
       "      <td>1.641</td>\n",
       "      <td>1.0</td>\n",
       "      <td>-9999.000</td>\n",
       "      <td>...</td>\n",
       "      <td>0.048202</td>\n",
       "      <td>1.023330</td>\n",
       "      <td>1.043830</td>\n",
       "      <td>1.054690</td>\n",
       "      <td>1.143620</td>\n",
       "      <td>1.187410</td>\n",
       "      <td>1.695690</td>\n",
       "      <td>1.766070</td>\n",
       "      <td>-9999</td>\n",
       "      <td>-9999</td>\n",
       "    </tr>\n",
       "    <tr>\n",
       "      <th>9131</th>\n",
       "      <td>20201231</td>\n",
       "      <td>1.155</td>\n",
       "      <td>1.0</td>\n",
       "      <td>0.683</td>\n",
       "      <td>0.426</td>\n",
       "      <td>1.0</td>\n",
       "      <td>2.015</td>\n",
       "      <td>1.027</td>\n",
       "      <td>1.0</td>\n",
       "      <td>-9999.000</td>\n",
       "      <td>...</td>\n",
       "      <td>0.053664</td>\n",
       "      <td>1.172190</td>\n",
       "      <td>1.188990</td>\n",
       "      <td>1.198790</td>\n",
       "      <td>1.260300</td>\n",
       "      <td>1.326590</td>\n",
       "      <td>1.857210</td>\n",
       "      <td>1.970350</td>\n",
       "      <td>-9999</td>\n",
       "      <td>-9999</td>\n",
       "    </tr>\n",
       "  </tbody>\n",
       "</table>\n",
       "<p>9132 rows × 348 columns</p>\n",
       "</div>"
      ],
      "text/plain": [
       "      TIMESTAMP  TA_F_MDS  TA_F_MDS_QC  TA_F_MDS_NIGHT  TA_F_MDS_NIGHT_SD  \\\n",
       "0      19960101    -6.317          1.0          -6.519              0.499   \n",
       "1      19960102    -8.194          1.0          -8.046              0.315   \n",
       "2      19960103    -6.493          1.0          -6.442              1.290   \n",
       "3      19960104    -5.817          1.0          -5.994              1.533   \n",
       "4      19960105    -7.153          1.0          -7.873              0.937   \n",
       "...         ...       ...          ...             ...                ...   \n",
       "9127   20201227    -1.100          1.0          -1.050              0.895   \n",
       "9128   20201228     0.697          1.0           0.511              0.309   \n",
       "9129   20201229     1.987          1.0           1.183              0.844   \n",
       "9130   20201230     2.222          1.0           1.489              0.655   \n",
       "9131   20201231     1.155          1.0           0.683              0.426   \n",
       "\n",
       "      TA_F_MDS_NIGHT_QC  TA_F_MDS_DAY  TA_F_MDS_DAY_SD  TA_F_MDS_DAY_QC  \\\n",
       "0                   1.0        -5.947            0.363              1.0   \n",
       "1                   1.0        -8.462            0.136              1.0   \n",
       "2                   1.0        -6.585            0.543              1.0   \n",
       "3                   1.0        -5.494            0.416              1.0   \n",
       "4                   1.0        -5.840            1.314              1.0   \n",
       "...                 ...           ...              ...              ...   \n",
       "9127                1.0        -1.199            0.568              1.0   \n",
       "9128                1.0         1.069            0.410              1.0   \n",
       "9129                1.0         3.596            1.207              1.0   \n",
       "9130                1.0         3.559            1.641              1.0   \n",
       "9131                1.0         2.015            1.027              1.0   \n",
       "\n",
       "        TA_ERA  ...  GPP_DT_CUT_SE  GPP_DT_CUT_05  GPP_DT_CUT_16  \\\n",
       "0       -4.461  ...       0.015053       0.555028       0.561730   \n",
       "1       -6.298  ...       0.009923       0.367124       0.371160   \n",
       "2       -4.898  ...       0.008910       0.329656       0.333276   \n",
       "3       -4.019  ...       0.020099       0.729447       0.738346   \n",
       "4       -6.368  ...       0.073735       2.243160       2.542880   \n",
       "...        ...  ...            ...            ...            ...   \n",
       "9127 -9999.000  ...       0.045068       0.850156       0.887816   \n",
       "9128 -9999.000  ...       0.035154       0.411376       0.427144   \n",
       "9129 -9999.000  ...       0.039496       0.734143       0.765549   \n",
       "9130 -9999.000  ...       0.048202       1.023330       1.043830   \n",
       "9131 -9999.000  ...       0.053664       1.172190       1.188990   \n",
       "\n",
       "      GPP_DT_CUT_25  GPP_DT_CUT_50  GPP_DT_CUT_75  GPP_DT_CUT_84  \\\n",
       "0          0.577562       0.580810       0.640947       0.731020   \n",
       "1          0.381973       0.385200       0.422219       0.482865   \n",
       "2          0.342989       0.345897       0.379112       0.433579   \n",
       "3          0.751802       0.759671       0.853409       0.964941   \n",
       "4          2.569510       2.582920       3.043680       3.379220   \n",
       "...             ...            ...            ...            ...   \n",
       "9127       0.912788       1.064840       1.110250       1.546200   \n",
       "9128       0.473767       0.717211       0.788892       0.913247   \n",
       "9129       0.792913       0.934640       0.977202       1.334840   \n",
       "9130       1.054690       1.143620       1.187410       1.695690   \n",
       "9131       1.198790       1.260300       1.326590       1.857210   \n",
       "\n",
       "      GPP_DT_CUT_95  RECO_SR  RECO_SR_N  \n",
       "0          0.831118    -9999      -9999  \n",
       "1          0.549465    -9999      -9999  \n",
       "2          0.493385    -9999      -9999  \n",
       "3          1.094040    -9999      -9999  \n",
       "4          3.798090    -9999      -9999  \n",
       "...             ...      ...        ...  \n",
       "9127       1.650990    -9999      -9999  \n",
       "9128       1.116870    -9999      -9999  \n",
       "9129       1.452930    -9999      -9999  \n",
       "9130       1.766070    -9999      -9999  \n",
       "9131       1.970350    -9999      -9999  \n",
       "\n",
       "[9132 rows x 348 columns]"
      ]
     },
     "execution_count": 14,
     "metadata": {},
     "output_type": "execute_result"
    }
   ],
   "source": [
    "ds"
   ]
  },
  {
   "cell_type": "code",
   "execution_count": 15,
   "id": "actual-carol",
   "metadata": {
    "tags": []
   },
   "outputs": [],
   "source": [
    "# check the dataset\n",
    "# select time period\n",
    "ds['time'] = pd.date_range(start='1996-01-01', end='2020-12-31', freq='D')\n",
    "ds = ds.reset_index().set_index('time')\n",
    "ds = ds[(ds.index.year<2020)&(ds.index.year>1996)]"
   ]
  },
  {
   "cell_type": "code",
   "execution_count": 16,
   "id": "9cb2bbde",
   "metadata": {},
   "outputs": [],
   "source": [
    "# Train the model with the first half dataset\n",
    "# Predict GPP with the second half dataset\n",
    "\n",
    "ds_train = ds[ds.index.year<2007]\n",
    "ds_predict = ds[ds.index.year>=2007]\n",
    "\n",
    "data_train =pd.concat([ds_train['VPD_F_MDS'],ds_train['TA_F_DAY'],ds_train['SW_IN_F_MDS'],ds_train['SWC_F_MDS_1'],ds_train['GPP_NT_VUT_REF']],axis=1)\n",
    "data_predict =pd.concat([ds_predict['VPD_F_MDS'],ds_predict['TA_F_DAY'],ds_predict['SW_IN_F_MDS'],ds_predict['SWC_F_MDS_1'],ds_predict['GPP_NT_VUT_REF']],axis=1)\n",
    "data_train.columns = ['VPD','T','SWR','SM','GPP']\n",
    "data_predict.columns = ['VPD','T','SWR','SM','GPP']\n"
   ]
  },
  {
   "cell_type": "code",
   "execution_count": 17,
   "id": "007badbf",
   "metadata": {},
   "outputs": [
    {
     "data": {
      "text/plain": [
       "0.859228599149274"
      ]
     },
     "execution_count": 17,
     "metadata": {},
     "output_type": "execute_result"
    }
   ],
   "source": [
    "# Train the model\n",
    "x = data_train.iloc[:,:-1]\n",
    "y = data_train.iloc[:,-1]\n",
    "model = RandomForestRegressor(oob_score=True)\n",
    "\n",
    "estimator = model.fit(x,y)\n",
    "GPP_p = estimator.predict(data_predict.iloc[:,:-1])\n",
    "oob = model.oob_score_\n",
    "oob"
   ]
  },
  {
   "cell_type": "code",
   "execution_count": 31,
   "id": "6865836d",
   "metadata": {},
   "outputs": [],
   "source": [
    "# add the predicted GPP in a dataframe\n",
    "GPP_rf = pd.DataFrame(index = data_predict.index,data = GPP_p, columns = {'GPP_predict'})"
   ]
  },
  {
   "cell_type": "code",
   "execution_count": 32,
   "id": "c16775fe",
   "metadata": {},
   "outputs": [
    {
     "data": {
      "text/plain": [
       "<matplotlib.legend.Legend at 0x7f7231fc0ca0>"
      ]
     },
     "execution_count": 32,
     "metadata": {},
     "output_type": "execute_result"
    },
    {
     "data": {
      "image/png": "[encoded data removed]",
      "text/plain": [
       "<Figure size 432x288 with 1 Axes>"
      ]
     },
     "metadata": {
      "needs_background": "light"
     },
     "output_type": "display_data"
    }
   ],
   "source": [
    "plt.plot(data_predict['GPP'],label = 'original GPP')\n",
    "plt.plot(GPP_rf['GPP_predict'],label = 'predicted GPP')\n",
    "plt.legend()"
   ]
  },
  {
   "cell_type": "code",
   "execution_count": 33,
   "id": "64befbf3",
   "metadata": {},
   "outputs": [],
   "source": [
    "# Select one year\n",
    "df = GPP_rf[GPP_rf.index.year==2008]"
   ]
  },
  {
   "cell_type": "code",
   "execution_count": 34,
   "id": "6bcc75fc",
   "metadata": {},
   "outputs": [
    {
     "data": {
      "text/plain": [
       "<AxesSubplot:xlabel='time'>"
      ]
     },
     "execution_count": 34,
     "metadata": {},
     "output_type": "execute_result"
    },
    {
     "data": {
      "image/png": "[encoded data removed]",
      "text/plain": [
       "<Figure size 432x288 with 1 Axes>"
      ]
     },
     "metadata": {
      "needs_background": "light"
     },
     "output_type": "display_data"
    }
   ],
   "source": [
    "df.plot()"
   ]
  },
  {
   "cell_type": "markdown",
   "id": "9d46b46b",
   "metadata": {},
   "source": [
    "# Feature importance"
   ]
  },
  {
   "cell_type": "code",
   "execution_count": 9,
   "id": "actual-exhibition",
   "metadata": {},
   "outputs": [
    {
     "data": {
      "text/plain": [
       "Text(0.5, 1.0, 'Feature importance')"
      ]
     },
     "execution_count": 9,
     "metadata": {},
     "output_type": "execute_result"
    },
    {
     "data": {
      "image/png": "[encoded data removed]",
      "text/plain": [
       "<Figure size 432x288 with 1 Axes>"
      ]
     },
     "metadata": {
      "needs_background": "light"
     },
     "output_type": "display_data"
    }
   ],
   "source": [
    "# shap value\n",
    "explainer = shap.TreeExplainer(model)\n",
    "shap_values = explainer(x)\n",
    "output = np.nanmean(abs(shap_values.values),axis=0)\n",
    "de = pd.DataFrame({'Features':['VPD','T','SWR','SM'], 'Importance':output}).set_index('Features')\n",
    "de = de.sort_values(by='Importance', ascending=True)\n",
    "plt.barh(de.index,de['Importance'],color='grey')\n",
    "plt.title('Feature importance')"
   ]
  }
 ],
 "metadata": {
  "interpreter": {
   "hash": "b01e08f74c1351ebd3c9162b677c10dc9e2e1ce46be39be7f5de7eac914b17fd"
  },
  "kernelspec": {
   "display_name": "Python 3 (ipykernel)",
   "language": "python",
   "name": "python3"
  },
  "language_info": {
   "codemirror_mode": {
    "name": "ipython",
    "version": 3
   },
   "file_extension": ".py",
   "mimetype": "text/x-python",
   "name": "python",
   "nbconvert_exporter": "python",
   "pygments_lexer": "ipython3",
   "version": "3.11.6"
  }
 },
 "nbformat": 4,
 "nbformat_minor": 5
}
